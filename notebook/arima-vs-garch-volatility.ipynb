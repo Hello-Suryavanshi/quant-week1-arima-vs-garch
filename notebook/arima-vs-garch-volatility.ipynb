{
 "cells": [
  {
   "cell_type": "code",
   "execution_count": 14,
   "id": "779d2626",
   "metadata": {},
   "outputs": [
    {
     "name": "stderr",
     "output_type": "stream",
     "text": [
      "[*********************100%***********************]  1 of 1 completed\n",
      "c:\\Users\\Surya PC\\AppData\\Local\\Programs\\Python\\Python312\\Lib\\site-packages\\statsmodels\\tsa\\base\\tsa_model.py:473: ValueWarning: A date index has been provided, but it has no associated frequency information and so will be ignored when e.g. forecasting.\n",
      "  self._init_dates(dates, freq)\n",
      "c:\\Users\\Surya PC\\AppData\\Local\\Programs\\Python\\Python312\\Lib\\site-packages\\statsmodels\\tsa\\base\\tsa_model.py:473: ValueWarning: A date index has been provided, but it has no associated frequency information and so will be ignored when e.g. forecasting.\n",
      "  self._init_dates(dates, freq)\n",
      "c:\\Users\\Surya PC\\AppData\\Local\\Programs\\Python\\Python312\\Lib\\site-packages\\statsmodels\\tsa\\base\\tsa_model.py:473: ValueWarning: A date index has been provided, but it has no associated frequency information and so will be ignored when e.g. forecasting.\n",
      "  self._init_dates(dates, freq)\n"
     ]
    },
    {
     "ename": "KeyError",
     "evalue": "['Actual_Volatility', 'ARIMA_Volatility', 'GARCH_Volatility']",
     "output_type": "error",
     "traceback": [
      "\u001b[31m---------------------------------------------------------------------------\u001b[39m",
      "\u001b[31mKeyError\u001b[39m                                  Traceback (most recent call last)",
      "\u001b[32m~\\AppData\\Local\\Temp\\ipykernel_8864\\2123029026.py\u001b[39m in \u001b[36m?\u001b[39m\u001b[34m()\u001b[39m\n\u001b[32m     28\u001b[39m df[\u001b[33m'Actual_Volatility'\u001b[39m] = df[\u001b[33m'Log_Returns'\u001b[39m].rolling(window=\u001b[32m21\u001b[39m).std() * \u001b[32m100\u001b[39m\n\u001b[32m     29\u001b[39m \n\u001b[32m     30\u001b[39m \u001b[38;5;66;03m# Drop rows with NaNs in key columns\u001b[39;00m\n\u001b[32m     31\u001b[39m vol_cols = [\u001b[33m'Actual_Volatility'\u001b[39m, \u001b[33m'ARIMA_Volatility'\u001b[39m, \u001b[33m'GARCH_Volatility'\u001b[39m]\n\u001b[32m---> \u001b[39m\u001b[32m32\u001b[39m df = df.dropna(subset=vol_cols)\n\u001b[32m     33\u001b[39m \n\u001b[32m     34\u001b[39m \u001b[38;5;66;03m# Evaluation\u001b[39;00m\n\u001b[32m     35\u001b[39m pred_arima = np.sqrt(df[\u001b[33m'ARIMA_Volatility'\u001b[39m]) * \u001b[32m100\u001b[39m\n",
      "\u001b[32mc:\\Users\\Surya PC\\AppData\\Local\\Programs\\Python\\Python312\\Lib\\site-packages\\pandas\\core\\frame.py\u001b[39m in \u001b[36m?\u001b[39m\u001b[34m(self, axis, how, thresh, subset, inplace, ignore_index)\u001b[39m\n\u001b[32m   6673\u001b[39m             ax = self._get_axis(agg_axis)\n\u001b[32m   6674\u001b[39m             indices = ax.get_indexer_for(subset)\n\u001b[32m   6675\u001b[39m             check = indices == -\u001b[32m1\u001b[39m\n\u001b[32m   6676\u001b[39m             \u001b[38;5;28;01mif\u001b[39;00m check.any():\n\u001b[32m-> \u001b[39m\u001b[32m6677\u001b[39m                 \u001b[38;5;28;01mraise\u001b[39;00m KeyError(np.array(subset)[check].tolist())\n\u001b[32m   6678\u001b[39m             agg_obj = self.take(indices, axis=agg_axis)\n\u001b[32m   6679\u001b[39m \n\u001b[32m   6680\u001b[39m         \u001b[38;5;28;01mif\u001b[39;00m thresh \u001b[38;5;28;01mis\u001b[39;00m \u001b[38;5;28;01mnot\u001b[39;00m lib.no_default:\n",
      "\u001b[31mKeyError\u001b[39m: ['Actual_Volatility', 'ARIMA_Volatility', 'GARCH_Volatility']"
     ]
    }
   ],
   "source": [
    "import yfinance as yf\n",
    "import pandas as pd\n",
    "import numpy as np\n",
    "import matplotlib.pyplot as plt\n",
    "from statsmodels.tsa.arima.model import ARIMA\n",
    "from arch import arch_model\n",
    "from sklearn.metrics import mean_squared_error, mean_absolute_error\n",
    "\n",
    "# Download S&P 500 data\n",
    "df = yf.download(\"^GSPC\", start=\"2014-01-01\", end=\"2024-12-31\", auto_adjust=False)\n",
    "df = df[['Adj Close']].copy()\n",
    "df['Log_Returns'] = np.log(df['Adj Close'] / df['Adj Close'].shift(1))\n",
    "df.dropna(inplace=True)\n",
    "\n",
    "# Fit ARIMA model\n",
    "model_arima = ARIMA(df['Log_Returns'], order=(1, 0, 1))\n",
    "result_arima = model_arima.fit()\n",
    "df['ARIMA_Residuals'] = result_arima.resid\n",
    "df['ARIMA_Volatility'] = df['ARIMA_Residuals'] ** 2\n",
    "\n",
    "# Fit GARCH(1,1)\n",
    "returns_pct = df['Log_Returns'] * 100\n",
    "garch = arch_model(returns_pct, vol='GARCH', p=1, q=1)\n",
    "garch_fit = garch.fit(disp='off')\n",
    "df['GARCH_Volatility'] = garch_fit.conditional_volatility\n",
    "\n",
    "# Compute actual volatility\n",
    "df['Actual_Volatility'] = df['Log_Returns'].rolling(window=21).std() * 100\n",
    "\n",
    "# Drop rows with NaNs in key columns\n",
    "vol_cols = ['Actual_Volatility', 'ARIMA_Volatility', 'GARCH_Volatility']\n",
    "df = df.dropna(subset=vol_cols)\n",
    "\n",
    "# Evaluation\n",
    "pred_arima = np.sqrt(df['ARIMA_Volatility']) * 100\n",
    "pred_garch = df['GARCH_Volatility']\n",
    "actual = df['Actual_Volatility']\n",
    "\n",
    "rmse_arima = np.sqrt(mean_squared_error(actual, pred_arima))\n",
    "mae_arima = mean_absolute_error(actual, pred_arima)\n",
    "rmse_garch = np.sqrt(mean_squared_error(actual, pred_garch))\n",
    "mae_garch = mean_absolute_error(actual, pred_garch)\n",
    "\n",
    "print(f\"ARIMA  -> RMSE: {rmse_arima:.4f}, MAE: {mae_arima:.4f}\")\n",
    "print(f\"GARCH  -> RMSE: {rmse_garch:.4f}, MAE: {mae_garch:.4f}\")\n",
    "\n",
    "# Plot actual vs predicted volatility\n",
    "plt.figure(figsize=(15, 6))\n",
    "plt.plot(df['Actual_Volatility'], label='Actual Volatility (21-day Rolling)', alpha=0.8)\n",
    "plt.plot(df['GARCH_Volatility'], label='GARCH Predicted Volatility', alpha=0.8)\n",
    "plt.plot(pred_arima, label='ARIMA Predicted Volatility', alpha=0.6)\n",
    "plt.title('Actual vs Predicted Volatility (ARIMA vs GARCH)')\n",
    "plt.legend()\n",
    "plt.show()\n",
    "\n",
    "# Bonus: Plot disagreement\n",
    "df['Volatility_Diff'] = abs(pred_arima - pred_garch)\n",
    "df['Volatility_Diff'].plot(figsize=(12, 4), title='Volatility Model Disagreement (ARIMA vs GARCH)')\n",
    "plt.ylabel('Absolute Difference in Predicted Volatility')\n",
    "plt.show()\n"
   ]
  }
 ],
 "metadata": {
  "kernelspec": {
   "display_name": "Python 3",
   "language": "python",
   "name": "python3"
  },
  "language_info": {
   "codemirror_mode": {
    "name": "ipython",
    "version": 3
   },
   "file_extension": ".py",
   "mimetype": "text/x-python",
   "name": "python",
   "nbconvert_exporter": "python",
   "pygments_lexer": "ipython3",
   "version": "3.12.5"
  }
 },
 "nbformat": 4,
 "nbformat_minor": 5
}
